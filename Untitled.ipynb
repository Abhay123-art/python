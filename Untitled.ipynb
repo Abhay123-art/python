{
 "cells": [
  {
   "cell_type": "code",
   "execution_count": 2,
   "metadata": {},
   "outputs": [
    {
     "name": "stdout",
     "output_type": "stream",
     "text": [
      "Please select operation\n",
      "1. addition\n",
      "2. Subtraction\n",
      "3. Multification\n",
      "4. Division\n",
      "5. percent\n",
      "\n",
      "Select operations form 1, 2, 3, 4, 5 :5\n",
      "Enter first number: 200\n",
      "Enter second number: 40\n",
      "200 / 100 * 40 = 80.0\n"
     ]
    }
   ],
   "source": [
    "CALCULATOR\n",
    "#for addition\n",
    "def add(num1, num2): \n",
    "    return num1 + num2 \n",
    "  \n",
    "#for subtraction  \n",
    "def subtract(num1, num2): \n",
    "    return num1 - num2 \n",
    "#for multification\n",
    "def multiply(num1, num2): \n",
    "    return num1 * num2 \n",
    "  \n",
    "#for division\n",
    "def divide(num1, num2): \n",
    "    return num1 / num2\n",
    "#for percentage\n",
    "def percent(num1, num2):\n",
    "    return num1 / 100 * num2\n",
    "  \n",
    "print(\"Please select operation\\n\" \\\n",
    "        \"1. addition\\n\" \\\n",
    "        \"2. Subtraction\\n\" \\\n",
    "        \"3. Multification\\n\" \\\n",
    "        \"4. Division\\n\" \\\n",
    "        \"5. percent\\n\") \n",
    "  \n",
    "  \n",
    "# Take input from usr \n",
    "select = int(input(\"Select operations form 1, 2, 3, 4, 5 :\")) \n",
    "  \n",
    "number_1 = int(input(\"Enter first number: \")) \n",
    "number_2 = int(input(\"Enter second number: \")) \n",
    "  \n",
    "if select == 1: \n",
    "    print(number_1, \"+\", number_2, \"=\", add(number_1, number_2)) \n",
    "  \n",
    "elif select == 2: \n",
    "    print(number_1, \"-\", number_2, \"=\", subtract(number_1, number_2)) \n",
    "  \n",
    "elif select == 3: \n",
    "    print(number_1, \"*\", number_2, \"=\", multiply(number_1, number_2)) \n",
    "  \n",
    "elif select == 4: \n",
    "    print(number_1, \"/\", number_2, \"=\", divide(number_1, number_2))\n",
    "\n",
    "elif select == 5:\n",
    "    print(number_1, \"/\", 100, \"*\", number_2, \"=\", percent(number_1, number_2))\n",
    "    \n",
    "\n",
    "else: \n",
    "    print(\"Invalid input\") "
   ]
  },
  {
   "cell_type": "code",
   "execution_count": null,
   "metadata": {},
   "outputs": [],
   "source": []
  },
  {
   "cell_type": "code",
   "execution_count": null,
   "metadata": {},
   "outputs": [],
   "source": []
  }
 ],
 "metadata": {
  "kernelspec": {
   "display_name": "Python 3",
   "language": "python",
   "name": "python3"
  },
  "language_info": {
   "codemirror_mode": {
    "name": "ipython",
    "version": 3
   },
   "file_extension": ".py",
   "mimetype": "text/x-python",
   "name": "python",
   "nbconvert_exporter": "python",
   "pygments_lexer": "ipython3",
   "version": "3.8.2"
  }
 },
 "nbformat": 4,
 "nbformat_minor": 4
}
